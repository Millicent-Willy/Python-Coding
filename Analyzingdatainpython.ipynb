{
  "nbformat": 4,
  "nbformat_minor": 0,
  "metadata": {
    "colab": {
      "provenance": [],
      "authorship_tag": "ABX9TyP/QB6NAcND/DmpWqDCDLBq",
      "include_colab_link": true
    },
    "kernelspec": {
      "name": "python3",
      "display_name": "Python 3"
    },
    "language_info": {
      "name": "python"
    }
  },
  "cells": [
    {
      "cell_type": "markdown",
      "metadata": {
        "id": "view-in-github",
        "colab_type": "text"
      },
      "source": [
        "<a href=\"https://colab.research.google.com/github/Millicent-Willy/Python-Coding/blob/main/Analyzingdatainpython.ipynb\" target=\"_parent\"><img src=\"https://colab.research.google.com/assets/colab-badge.svg\" alt=\"Open In Colab\"/></a>"
      ]
    },
    {
      "cell_type": "markdown",
      "source": [
        "***John wants to make decisions based on insights from his data.***\n",
        "\n",
        "He wants us to help him with the below tasks:\n",
        "1. Add new information about his customers in the dataset.\n",
        "2. Filter for specific customr information to identify his loyal customers.\n",
        "3. Remove unnecessary data.\n",
        "4. Find the most optimal number of cakes he sells per order."
      ],
      "metadata": {
        "id": "sMy2a9iYt_CN"
      }
    },
    {
      "cell_type": "code",
      "execution_count": 1,
      "metadata": {
        "id": "mo2ksTX-tLJP"
      },
      "outputs": [],
      "source": [
        "import numpy as np\n",
        "import pandas as pd\n",
        "import matplotlib as plt\n",
        "import seaborn as sns"
      ]
    },
    {
      "cell_type": "code",
      "source": [
        "# Importing the csv file\n",
        "df= pd.read_csv('Chapter Exercise Data.csv')\n",
        "df.info()"
      ],
      "metadata": {
        "colab": {
          "base_uri": "https://localhost:8080/"
        },
        "id": "WONN7KYWu-wn",
        "outputId": "5f1181c4-1385-474c-c2da-cd67982904ed"
      },
      "execution_count": 6,
      "outputs": [
        {
          "output_type": "stream",
          "name": "stdout",
          "text": [
            "<class 'pandas.core.frame.DataFrame'>\n",
            "RangeIndex: 1000 entries, 0 to 999\n",
            "Data columns (total 5 columns):\n",
            " #   Column            Non-Null Count  Dtype  \n",
            "---  ------            --------------  -----  \n",
            " 0   OrderID           1000 non-null   int64  \n",
            " 1   PricePerItem      1000 non-null   int64  \n",
            " 2   Quantity          1000 non-null   int64  \n",
            " 3   ShippingDistance  994 non-null    float64\n",
            " 4   CustomerID        1000 non-null   int64  \n",
            "dtypes: float64(1), int64(4)\n",
            "memory usage: 39.2 KB\n"
          ]
        }
      ]
    },
    {
      "cell_type": "code",
      "source": [
        "df.isnull().sum() #on ShippingDistance has null values"
      ],
      "metadata": {
        "colab": {
          "base_uri": "https://localhost:8080/"
        },
        "id": "P64MfUr5u_J9",
        "outputId": "e0a1d940-2f7a-4a5c-90fa-42f967d68fd0"
      },
      "execution_count": 9,
      "outputs": [
        {
          "output_type": "execute_result",
          "data": {
            "text/plain": [
              "OrderID             0\n",
              "PricePerItem        0\n",
              "Quantity            0\n",
              "ShippingDistance    6\n",
              "CustomerID          0\n",
              "dtype: int64"
            ]
          },
          "metadata": {},
          "execution_count": 9
        }
      ]
    },
    {
      "cell_type": "code",
      "source": [
        "#Filling ShippingDistance null values with zero\n",
        "df=df.fillna(0)"
      ],
      "metadata": {
        "id": "wSviG-BmxZg4"
      },
      "execution_count": 15,
      "outputs": []
    },
    {
      "cell_type": "code",
      "source": [
        "df.isnull().sum() # No null values now"
      ],
      "metadata": {
        "colab": {
          "base_uri": "https://localhost:8080/"
        },
        "id": "RsiqzmXU1pWv",
        "outputId": "1b603d0d-e8e3-44f5-bcd5-ec1297b3a19a"
      },
      "execution_count": 16,
      "outputs": [
        {
          "output_type": "execute_result",
          "data": {
            "text/plain": [
              "OrderID             0\n",
              "PricePerItem        0\n",
              "Quantity            0\n",
              "ShippingDistance    0\n",
              "CustomerID          0\n",
              "dtype: int64"
            ]
          },
          "metadata": {},
          "execution_count": 16
        }
      ]
    },
    {
      "cell_type": "code",
      "source": [],
      "metadata": {
        "id": "n82RFK9U3Zoc"
      },
      "execution_count": null,
      "outputs": []
    },
    {
      "cell_type": "markdown",
      "source": [
        "*John realized that he wanted to add the amount he would make per order onto the DataFrame. Create a column displaying the amount he would make per order.*"
      ],
      "metadata": {
        "id": "k2I65Db13nt1"
      }
    },
    {
      "cell_type": "code",
      "source": [
        "df['Revenue']= df['PricePerItem'] * df['Quantity']"
      ],
      "metadata": {
        "id": "N3TSrByK3-0U"
      },
      "execution_count": 17,
      "outputs": []
    },
    {
      "cell_type": "code",
      "source": [
        "df.head(5)"
      ],
      "metadata": {
        "colab": {
          "base_uri": "https://localhost:8080/",
          "height": 206
        },
        "id": "ovshV46W4Oky",
        "outputId": "cc76d057-78bf-48b8-aa22-e8c691079413"
      },
      "execution_count": 24,
      "outputs": [
        {
          "output_type": "execute_result",
          "data": {
            "text/plain": [
              "   OrderID  PricePerItem  Quantity  ShippingDistance  CustomerID  Revenue\n",
              "0        1            10         5               3.0        6671       50\n",
              "1        2            10        10              84.0        8647      100\n",
              "2        3            10         1               0.0        4075       10\n",
              "3        4            10        10              92.0        8452      100\n",
              "4        5            10         3               2.0        2621       30"
            ],
            "text/html": [
              "\n",
              "  <div id=\"df-b6f599bb-914f-4c27-b3c7-d6a94bd31676\">\n",
              "    <div class=\"colab-df-container\">\n",
              "      <div>\n",
              "<style scoped>\n",
              "    .dataframe tbody tr th:only-of-type {\n",
              "        vertical-align: middle;\n",
              "    }\n",
              "\n",
              "    .dataframe tbody tr th {\n",
              "        vertical-align: top;\n",
              "    }\n",
              "\n",
              "    .dataframe thead th {\n",
              "        text-align: right;\n",
              "    }\n",
              "</style>\n",
              "<table border=\"1\" class=\"dataframe\">\n",
              "  <thead>\n",
              "    <tr style=\"text-align: right;\">\n",
              "      <th></th>\n",
              "      <th>OrderID</th>\n",
              "      <th>PricePerItem</th>\n",
              "      <th>Quantity</th>\n",
              "      <th>ShippingDistance</th>\n",
              "      <th>CustomerID</th>\n",
              "      <th>Revenue</th>\n",
              "    </tr>\n",
              "  </thead>\n",
              "  <tbody>\n",
              "    <tr>\n",
              "      <th>0</th>\n",
              "      <td>1</td>\n",
              "      <td>10</td>\n",
              "      <td>5</td>\n",
              "      <td>3.0</td>\n",
              "      <td>6671</td>\n",
              "      <td>50</td>\n",
              "    </tr>\n",
              "    <tr>\n",
              "      <th>1</th>\n",
              "      <td>2</td>\n",
              "      <td>10</td>\n",
              "      <td>10</td>\n",
              "      <td>84.0</td>\n",
              "      <td>8647</td>\n",
              "      <td>100</td>\n",
              "    </tr>\n",
              "    <tr>\n",
              "      <th>2</th>\n",
              "      <td>3</td>\n",
              "      <td>10</td>\n",
              "      <td>1</td>\n",
              "      <td>0.0</td>\n",
              "      <td>4075</td>\n",
              "      <td>10</td>\n",
              "    </tr>\n",
              "    <tr>\n",
              "      <th>3</th>\n",
              "      <td>4</td>\n",
              "      <td>10</td>\n",
              "      <td>10</td>\n",
              "      <td>92.0</td>\n",
              "      <td>8452</td>\n",
              "      <td>100</td>\n",
              "    </tr>\n",
              "    <tr>\n",
              "      <th>4</th>\n",
              "      <td>5</td>\n",
              "      <td>10</td>\n",
              "      <td>3</td>\n",
              "      <td>2.0</td>\n",
              "      <td>2621</td>\n",
              "      <td>30</td>\n",
              "    </tr>\n",
              "  </tbody>\n",
              "</table>\n",
              "</div>\n",
              "      <button class=\"colab-df-convert\" onclick=\"convertToInteractive('df-b6f599bb-914f-4c27-b3c7-d6a94bd31676')\"\n",
              "              title=\"Convert this dataframe to an interactive table.\"\n",
              "              style=\"display:none;\">\n",
              "        \n",
              "  <svg xmlns=\"http://www.w3.org/2000/svg\" height=\"24px\"viewBox=\"0 0 24 24\"\n",
              "       width=\"24px\">\n",
              "    <path d=\"M0 0h24v24H0V0z\" fill=\"none\"/>\n",
              "    <path d=\"M18.56 5.44l.94 2.06.94-2.06 2.06-.94-2.06-.94-.94-2.06-.94 2.06-2.06.94zm-11 1L8.5 8.5l.94-2.06 2.06-.94-2.06-.94L8.5 2.5l-.94 2.06-2.06.94zm10 10l.94 2.06.94-2.06 2.06-.94-2.06-.94-.94-2.06-.94 2.06-2.06.94z\"/><path d=\"M17.41 7.96l-1.37-1.37c-.4-.4-.92-.59-1.43-.59-.52 0-1.04.2-1.43.59L10.3 9.45l-7.72 7.72c-.78.78-.78 2.05 0 2.83L4 21.41c.39.39.9.59 1.41.59.51 0 1.02-.2 1.41-.59l7.78-7.78 2.81-2.81c.8-.78.8-2.07 0-2.86zM5.41 20L4 18.59l7.72-7.72 1.47 1.35L5.41 20z\"/>\n",
              "  </svg>\n",
              "      </button>\n",
              "      \n",
              "  <style>\n",
              "    .colab-df-container {\n",
              "      display:flex;\n",
              "      flex-wrap:wrap;\n",
              "      gap: 12px;\n",
              "    }\n",
              "\n",
              "    .colab-df-convert {\n",
              "      background-color: #E8F0FE;\n",
              "      border: none;\n",
              "      border-radius: 50%;\n",
              "      cursor: pointer;\n",
              "      display: none;\n",
              "      fill: #1967D2;\n",
              "      height: 32px;\n",
              "      padding: 0 0 0 0;\n",
              "      width: 32px;\n",
              "    }\n",
              "\n",
              "    .colab-df-convert:hover {\n",
              "      background-color: #E2EBFA;\n",
              "      box-shadow: 0px 1px 2px rgba(60, 64, 67, 0.3), 0px 1px 3px 1px rgba(60, 64, 67, 0.15);\n",
              "      fill: #174EA6;\n",
              "    }\n",
              "\n",
              "    [theme=dark] .colab-df-convert {\n",
              "      background-color: #3B4455;\n",
              "      fill: #D2E3FC;\n",
              "    }\n",
              "\n",
              "    [theme=dark] .colab-df-convert:hover {\n",
              "      background-color: #434B5C;\n",
              "      box-shadow: 0px 1px 3px 1px rgba(0, 0, 0, 0.15);\n",
              "      filter: drop-shadow(0px 1px 2px rgba(0, 0, 0, 0.3));\n",
              "      fill: #FFFFFF;\n",
              "    }\n",
              "  </style>\n",
              "\n",
              "      <script>\n",
              "        const buttonEl =\n",
              "          document.querySelector('#df-b6f599bb-914f-4c27-b3c7-d6a94bd31676 button.colab-df-convert');\n",
              "        buttonEl.style.display =\n",
              "          google.colab.kernel.accessAllowed ? 'block' : 'none';\n",
              "\n",
              "        async function convertToInteractive(key) {\n",
              "          const element = document.querySelector('#df-b6f599bb-914f-4c27-b3c7-d6a94bd31676');\n",
              "          const dataTable =\n",
              "            await google.colab.kernel.invokeFunction('convertToInteractive',\n",
              "                                                     [key], {});\n",
              "          if (!dataTable) return;\n",
              "\n",
              "          const docLinkHtml = 'Like what you see? Visit the ' +\n",
              "            '<a target=\"_blank\" href=https://colab.research.google.com/notebooks/data_table.ipynb>data table notebook</a>'\n",
              "            + ' to learn more about interactive tables.';\n",
              "          element.innerHTML = '';\n",
              "          dataTable['output_type'] = 'display_data';\n",
              "          await google.colab.output.renderOutput(dataTable, element);\n",
              "          const docLink = document.createElement('div');\n",
              "          docLink.innerHTML = docLinkHtml;\n",
              "          element.appendChild(docLink);\n",
              "        }\n",
              "      </script>\n",
              "    </div>\n",
              "  </div>\n",
              "  "
            ]
          },
          "metadata": {},
          "execution_count": 24
        }
      ]
    },
    {
      "cell_type": "markdown",
      "source": [
        "**John wants to send out thankyou cards to customers that spend atleast $50 on their order. Filter the DataFrame for the list of customers that fit this criteria.**"
      ],
      "metadata": {
        "id": "YQDD9Hmn49du"
      }
    },
    {
      "cell_type": "code",
      "source": [
        "df['Thankyou']= df['Revenue'] >=50"
      ],
      "metadata": {
        "id": "NGE1YYo45gNl"
      },
      "execution_count": 30,
      "outputs": []
    },
    {
      "cell_type": "code",
      "source": [
        "df['Thankyou'].count() #1000 cards will be sent"
      ],
      "metadata": {
        "colab": {
          "base_uri": "https://localhost:8080/"
        },
        "id": "p0J7BtcA5-2V",
        "outputId": "1501b540-efa6-47fa-a3a4-a96576366d7c"
      },
      "execution_count": 27,
      "outputs": [
        {
          "output_type": "execute_result",
          "data": {
            "text/plain": [
              "1000"
            ]
          },
          "metadata": {},
          "execution_count": 27
        }
      ]
    },
    {
      "cell_type": "markdown",
      "source": [
        "*John wants to send out a gift card to every 300th customer. Find list of customerID's that qualify for the gift.*"
      ],
      "metadata": {
        "id": "9TvzO4O77Jm5"
      }
    },
    {
      "cell_type": "code",
      "source": [
        "df.iloc[[299,599,899],4] # python indexing starts at 0"
      ],
      "metadata": {
        "colab": {
          "base_uri": "https://localhost:8080/"
        },
        "id": "bTmr0l5J7X4u",
        "outputId": "fee320dc-37ac-4186-a1e6-fec463f8bf6f"
      },
      "execution_count": 34,
      "outputs": [
        {
          "output_type": "execute_result",
          "data": {
            "text/plain": [
              "299     198\n",
              "599    7682\n",
              "899    1549\n",
              "Name: CustomerID, dtype: int64"
            ]
          },
          "metadata": {},
          "execution_count": 34
        }
      ]
    },
    {
      "cell_type": "markdown",
      "source": [
        "**Find the average distance that a product travels when shipped.**"
      ],
      "metadata": {
        "id": "4BvsAN-w9xAM"
      }
    },
    {
      "cell_type": "code",
      "source": [
        "df['ShippingDistance'].mean()"
      ],
      "metadata": {
        "colab": {
          "base_uri": "https://localhost:8080/"
        },
        "id": "zwSr11o299HF",
        "outputId": "f777f843-3be0-4e39-8b0e-b0de275ab479"
      },
      "execution_count": 35,
      "outputs": [
        {
          "output_type": "execute_result",
          "data": {
            "text/plain": [
              "48.541"
            ]
          },
          "metadata": {},
          "execution_count": 35
        }
      ]
    },
    {
      "cell_type": "markdown",
      "source": [
        "**John wants to know from his orders, what is the most popular order quantity amount. Find the count of each order quantity.**"
      ],
      "metadata": {
        "id": "WVD2eIgU-nmY"
      }
    },
    {
      "cell_type": "code",
      "source": [
        "df= pd.read_csv('Chapter Exercise Data.csv')\n",
        "Count_of_quantity=df.groupby('Quantity')['OrderID'].count()\n",
        "Count_of_quantity # Many customers order one product\n"
      ],
      "metadata": {
        "colab": {
          "base_uri": "https://localhost:8080/"
        },
        "id": "j18cv49QCQ4u",
        "outputId": "65d2d610-8032-4bbd-8b30-2bc4555f88f4"
      },
      "execution_count": 62,
      "outputs": [
        {
          "output_type": "execute_result",
          "data": {
            "text/plain": [
              "Quantity\n",
              "1     113\n",
              "2      95\n",
              "3      98\n",
              "4      94\n",
              "5      98\n",
              "6      91\n",
              "7     103\n",
              "8     102\n",
              "9      96\n",
              "10    110\n",
              "Name: OrderID, dtype: int64"
            ]
          },
          "metadata": {},
          "execution_count": 62
        }
      ]
    },
    {
      "cell_type": "code",
      "source": [],
      "metadata": {
        "id": "NCPVdpFtFG6X"
      },
      "execution_count": null,
      "outputs": []
    }
  ]
}